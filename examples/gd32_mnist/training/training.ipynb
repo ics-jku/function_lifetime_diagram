{
 "cells": [
  {
   "cell_type": "markdown",
   "metadata": {
    "id": "aCZBFzjClURz"
   },
   "source": [
    "# Train a MNIST TensorFlow Lite for Microcontrollers Model\n",
    "Inspired by tflite-micro examles"
   ]
  },
  {
   "cell_type": "markdown",
   "metadata": {
    "id": "dh4AXGuHWeu1"
   },
   "source": [
    "## Setup Environment"
   ]
  },
  {
   "cell_type": "code",
   "execution_count": 1,
   "metadata": {
    "id": "53PBJBv1jEtJ"
   },
   "outputs": [
    {
     "name": "stderr",
     "output_type": "stream",
     "text": [
      "2023-04-13 17:49:51.729861: W tensorflow/stream_executor/platform/default/dso_loader.cc:64] Could not load dynamic library 'libcudart.so.11.0'; dlerror: libcudart.so.11.0: cannot open shared object file: No such file or directory\n",
      "2023-04-13 17:49:51.729932: I tensorflow/stream_executor/cuda/cudart_stub.cc:29] Ignore above cudart dlerror if you do not have a GPU set up on your machine.\n"
     ]
    }
   ],
   "source": [
    "import os\n",
    "import math\n",
    "import numpy as np\n",
    "import pandas as pd\n",
    "import matplotlib.pyplot as plt\n",
    "\n",
    "import tensorflow as tf\n",
    "import tensorflow_datasets as tfds\n",
    "from tensorflow import keras\n",
    "from tensorflow.keras import layers\n",
    "\n",
    "from sklearn.metrics import accuracy_score\n",
    "from sklearn.metrics import confusion_matrix, ConfusionMatrixDisplay\n",
    "\n",
    "# Set seed for experiment reproducibility\n",
    "seed = 1\n",
    "np.random.seed(seed)\n",
    "tf.random.set_seed(seed)"
   ]
  },
  {
   "cell_type": "markdown",
   "metadata": {
    "id": "_UQblnrLd_ET"
   },
   "source": [
    "## Configure Defaults"
   ]
  },
  {
   "cell_type": "code",
   "execution_count": 2,
   "metadata": {
    "id": "5PYwRFppd-WB"
   },
   "outputs": [],
   "source": [
    "# Define paths to model files\n",
    "MODELS_DIR = 'models/'\n",
    "if not os.path.exists(MODELS_DIR):\n",
    "    os.mkdir(MODELS_DIR)\n",
    "MODEL_TF = MODELS_DIR + 'model'\n",
    "MODEL_NO_QUANT_TFLITE = MODELS_DIR + 'model_no_quant.tflite'\n",
    "MODEL_TFLITE = MODELS_DIR + 'model.tflite'\n",
    "MODEL_TFLITE_MICRO = MODELS_DIR + 'model.cc'\n",
    "MODEL_NO_QUANT_TFLITE_MICRO = MODELS_DIR + 'model_no_quant.cc'\n",
    "\n",
    "INPUT_IMAGE_WIDTH = 20\n",
    "INPUT_IMAGE_HEIGHT = 20\n",
    "\n",
    "NUM_CLASSES = 10\n",
    "INPUT_SHAPE = (INPUT_IMAGE_HEIGHT, INPUT_IMAGE_WIDTH, 1)"
   ]
  },
  {
   "cell_type": "markdown",
   "metadata": {},
   "source": [
    "# Tools"
   ]
  },
  {
   "cell_type": "code",
   "execution_count": 3,
   "metadata": {},
   "outputs": [],
   "source": [
    "import cv2\n",
    "\n",
    "# find content in image, cut it out and scale it to input dimensions\n",
    "def cropscale(img):\n",
    "    img = np.round(img)\n",
    "    th = cv2.threshold(img, 0, 255, cv2.THRESH_OTSU)\n",
    "    bbox = cv2.boundingRect(th[1])\n",
    "    x, y, w, h = bbox\n",
    "    if (h < 3):\n",
    "        x = y = 0\n",
    "        h = 3\n",
    "    if (w < 14):\n",
    "        w = 14\n",
    "    img = img[y:y+h, x:x+w]\n",
    "    img = cv2.resize(img, (INPUT_IMAGE_WIDTH, INPUT_IMAGE_HEIGHT), interpolation=cv2.INTER_AREA)\n",
    "    return img"
   ]
  },
  {
   "cell_type": "code",
   "execution_count": 4,
   "metadata": {},
   "outputs": [],
   "source": [
    "# apply cropscale to whole dataset\n",
    "def cropscale_ds(ds):\n",
    "    ds_new = np.empty((ds.shape[0], INPUT_IMAGE_WIDTH, INPUT_IMAGE_HEIGHT), dtype=\"uint8\")\n",
    "    i = 0\n",
    "    for img in ds:\n",
    "        ds_new[i] = cropscale(img)\n",
    "        i += 1\n",
    "    return ds_new"
   ]
  },
  {
   "cell_type": "code",
   "execution_count": 5,
   "metadata": {},
   "outputs": [],
   "source": [
    "# tflite to C\n",
    "def tfliteToC(infile, outfile):\n",
    "    !xxd -i {infile} > {outfile}\n",
    "    # Update variable names\n",
    "    REPLACE_TEXT = infile.replace('/', '_').replace('.', '_')\n",
    "    !sed -i -e 's/'{REPLACE_TEXT}'/g_model/g' -e 's/^  */\\t/g' {outfile}"
   ]
  },
  {
   "cell_type": "markdown",
   "metadata": {},
   "source": [
    "## Load MNIST"
   ]
  },
  {
   "cell_type": "code",
   "execution_count": 6,
   "metadata": {},
   "outputs": [],
   "source": [
    "# Load the data and split it between train and test sets\n",
    "(x_train, y_train), (x_test, y_test) = keras.datasets.mnist.load_data()"
   ]
  },
  {
   "cell_type": "code",
   "execution_count": 7,
   "metadata": {},
   "outputs": [
    {
     "name": "stdout",
     "output_type": "stream",
     "text": [
      "7\n"
     ]
    },
    {
     "data": {
      "image/png": "[encoded data removed]",
      "text/plain": [
       "<Figure size 432x288 with 1 Axes>"
      ]
     },
     "metadata": {
      "needs_background": "light"
     },
     "output_type": "display_data"
    }
   ],
   "source": [
    "# Example of original data\n",
    "plt.imshow(x_test[0])\n",
    "print(y_test[0])"
   ]
  },
  {
   "cell_type": "markdown",
   "metadata": {},
   "source": [
    "## Pre-Processing"
   ]
  },
  {
   "cell_type": "code",
   "execution_count": 8,
   "metadata": {},
   "outputs": [],
   "source": [
    "# Find and cut out content. Scale to input size.\n",
    "x_test = cropscale_ds(x_test)\n",
    "x_train = cropscale_ds(x_train)\n",
    "\n",
    "# Scale images to the [0, 1] range\n",
    "x_train = x_train.astype(\"float32\") / 255\n",
    "x_test = x_test.astype(\"float32\") / 255\n",
    "\n",
    "# Make sure images have correct shape\n",
    "x_train = np.expand_dims(x_train, -1)\n",
    "x_test = np.expand_dims(x_test, -1)\n",
    "\n",
    "# convert class vectors to binary class matrices\n",
    "y_train = keras.utils.to_categorical(y_train, NUM_CLASSES)\n",
    "y_test = keras.utils.to_categorical(y_test, NUM_CLASSES)"
   ]
  },
  {
   "cell_type": "code",
   "execution_count": 9,
   "metadata": {},
   "outputs": [
    {
     "name": "stdout",
     "output_type": "stream",
     "text": [
      "[0. 0. 0. 0. 0. 0. 0. 1. 0. 0.]\n"
     ]
    },
    {
     "data": {
      "image/png": "[encoded data removed]",
      "text/plain": [
       "<Figure size 432x288 with 1 Axes>"
      ]
     },
     "metadata": {
      "needs_background": "light"
     },
     "output_type": "display_data"
    }
   ],
   "source": [
    "# Example of pre-processed data\n",
    "plt.imshow(x_test[0])\n",
    "print(y_test[0])"
   ]
  },
  {
   "cell_type": "markdown",
   "metadata": {},
   "source": [
    "## Describe Models"
   ]
  },
  {
   "cell_type": "code",
   "execution_count": 10,
   "metadata": {},
   "outputs": [
    {
     "name": "stderr",
     "output_type": "stream",
     "text": [
      "2023-04-13 17:49:57.794083: W tensorflow/stream_executor/platform/default/dso_loader.cc:64] Could not load dynamic library 'libcuda.so.1'; dlerror: libcuda.so.1: cannot open shared object file: No such file or directory; LD_LIBRARY_PATH: /opt/jupyternotebook/virtualenv/lib/python3.8/site-packages/cv2/../../lib64:\n",
      "2023-04-13 17:49:57.794108: W tensorflow/stream_executor/cuda/cuda_driver.cc:269] failed call to cuInit: UNKNOWN ERROR (303)\n",
      "2023-04-13 17:49:57.794127: I tensorflow/stream_executor/cuda/cuda_diagnostics.cc:156] kernel driver does not appear to be running on this host (blackdwarf): /proc/driver/nvidia/version does not exist\n",
      "2023-04-13 17:49:57.794766: I tensorflow/core/platform/cpu_feature_guard.cc:193] This TensorFlow binary is optimized with oneAPI Deep Neural Network Library (oneDNN) to use the following CPU instructions in performance-critical operations:  AVX2 FMA\n",
      "To enable them in other operations, rebuild TensorFlow with the appropriate compiler flags.\n"
     ]
    }
   ],
   "source": [
    "# big CNN\n",
    "model_cnn_big = keras.Sequential(\n",
    "    [\n",
    "        keras.Input(shape=(INPUT_SHAPE)),\n",
    "        layers.Conv2D(32, kernel_size=(3, 3), activation=\"relu\"),\n",
    "        layers.MaxPooling2D(pool_size=(2, 2)),\n",
    "        layers.Conv2D(64, kernel_size=(3, 3), activation=\"relu\"),\n",
    "        layers.MaxPooling2D(pool_size=(2, 2)),\n",
    "        layers.Flatten(),\n",
    "        layers.Dropout(0.5),\n",
    "        layers.Dense(NUM_CLASSES, activation=\"softmax\"),\n",
    "    ]\n",
    ")\n",
    "\n",
    "# big NN\n",
    "model_nn_big = keras.Sequential([\n",
    "  layers.Flatten(input_shape=(INPUT_SHAPE)),\n",
    "  layers.Dense(128, activation='relu'),\n",
    "  layers.Dense(NUM_CLASSES, activation=\"softmax\"),\n",
    "])\n",
    "\n",
    "# medium NN\n",
    "model_nn_medium = keras.Sequential([\n",
    "  layers.Flatten(input_shape=(INPUT_SHAPE)),\n",
    "  layers.Dense(17, activation='relu'),\n",
    "  layers.Dense(NUM_CLASSES, activation=\"softmax\"),\n",
    "])\n",
    "\n",
    "\n",
    "# small NN\n",
    "model_nn_small = keras.Sequential([\n",
    "  layers.Flatten(input_shape=(INPUT_SHAPE)),\n",
    "  layers.Dense(NUM_CLASSES, activation=\"softmax\"),\n",
    "])"
   ]
  },
  {
   "cell_type": "code",
   "execution_count": 11,
   "metadata": {},
   "outputs": [
    {
     "name": "stdout",
     "output_type": "stream",
     "text": [
      "Model: \"sequential_3\"\n",
      "_________________________________________________________________\n",
      " Layer (type)                Output Shape              Param #   \n",
      "=================================================================\n",
      " flatten_3 (Flatten)         (None, 400)               0         \n",
      "                                                                 \n",
      " dense_5 (Dense)             (None, 10)                4010      \n",
      "                                                                 \n",
      "=================================================================\n",
      "Total params: 4,010\n",
      "Trainable params: 4,010\n",
      "Non-trainable params: 0\n",
      "_________________________________________________________________\n"
     ]
    }
   ],
   "source": [
    "# select small nn\n",
    "model = model_nn_small\n",
    "model.summary()"
   ]
  },
  {
   "cell_type": "markdown",
   "metadata": {},
   "source": [
    "## Train Model"
   ]
  },
  {
   "cell_type": "code",
   "execution_count": 12,
   "metadata": {},
   "outputs": [
    {
     "name": "stdout",
     "output_type": "stream",
     "text": [
      "Epoch 1/10\n",
      "422/422 [==============================] - 1s 1ms/step - loss: 0.7152 - accuracy: 0.8174 - val_loss: 0.3470 - val_accuracy: 0.9178\n",
      "Epoch 2/10\n",
      "422/422 [==============================] - 0s 1ms/step - loss: 0.3626 - accuracy: 0.9068 - val_loss: 0.2742 - val_accuracy: 0.9313\n",
      "Epoch 3/10\n",
      "422/422 [==============================] - 0s 1ms/step - loss: 0.3145 - accuracy: 0.9167 - val_loss: 0.2504 - val_accuracy: 0.9337\n",
      "Epoch 4/10\n",
      "422/422 [==============================] - 0s 1ms/step - loss: 0.2937 - accuracy: 0.9210 - val_loss: 0.2374 - val_accuracy: 0.9368\n",
      "Epoch 5/10\n",
      "422/422 [==============================] - 1s 1ms/step - loss: 0.2820 - accuracy: 0.9245 - val_loss: 0.2299 - val_accuracy: 0.9370\n",
      "Epoch 6/10\n",
      "422/422 [==============================] - 1s 1ms/step - loss: 0.2742 - accuracy: 0.9258 - val_loss: 0.2243 - val_accuracy: 0.9403\n",
      "Epoch 7/10\n",
      "422/422 [==============================] - 0s 1ms/step - loss: 0.2690 - accuracy: 0.9270 - val_loss: 0.2189 - val_accuracy: 0.9413\n",
      "Epoch 8/10\n",
      "422/422 [==============================] - 0s 1ms/step - loss: 0.2649 - accuracy: 0.9284 - val_loss: 0.2190 - val_accuracy: 0.9422\n",
      "Epoch 9/10\n",
      "422/422 [==============================] - 0s 1ms/step - loss: 0.2616 - accuracy: 0.9292 - val_loss: 0.2158 - val_accuracy: 0.9428\n",
      "Epoch 10/10\n",
      "422/422 [==============================] - 0s 1ms/step - loss: 0.2589 - accuracy: 0.9300 - val_loss: 0.2149 - val_accuracy: 0.9433\n"
     ]
    },
    {
     "data": {
      "text/plain": [
       "<keras.callbacks.History at 0x7f96a6f670d0>"
      ]
     },
     "execution_count": 12,
     "metadata": {},
     "output_type": "execute_result"
    }
   ],
   "source": [
    "batch_size = 128\n",
    "epochs = 10\n",
    "\n",
    "model.compile(loss=\"categorical_crossentropy\", optimizer=\"adam\", metrics=[\"accuracy\"])\n",
    "model.fit(x_train, y_train, batch_size=batch_size, epochs=epochs, validation_split=0.1)"
   ]
  },
  {
   "cell_type": "code",
   "execution_count": 13,
   "metadata": {},
   "outputs": [
    {
     "name": "stdout",
     "output_type": "stream",
     "text": [
      "Test loss: 0.2480427771806717\n",
      "Test accuracy: 0.932699978351593\n"
     ]
    }
   ],
   "source": [
    "score = model.evaluate(x_test, y_test, verbose=0)\n",
    "print(\"Test loss:\", score[0])\n",
    "print(\"Test accuracy:\", score[1])"
   ]
  },
  {
   "cell_type": "markdown",
   "metadata": {},
   "source": [
    "# Convert Model to TFLite and TFLite Micro"
   ]
  },
  {
   "cell_type": "code",
   "execution_count": 14,
   "metadata": {},
   "outputs": [
    {
     "name": "stdout",
     "output_type": "stream",
     "text": [
      "INFO:tensorflow:Assets written to: models/model/assets\n"
     ]
    }
   ],
   "source": [
    "# Save the model to disk\n",
    "model.save(MODEL_TF)"
   ]
  },
  {
   "cell_type": "code",
   "execution_count": 15,
   "metadata": {},
   "outputs": [
    {
     "name": "stderr",
     "output_type": "stream",
     "text": [
      "2023-04-13 17:50:04.331517: W tensorflow/compiler/mlir/lite/python/tf_tfl_flatbuffer_helpers.cc:362] Ignored output_format.\n",
      "2023-04-13 17:50:04.331540: W tensorflow/compiler/mlir/lite/python/tf_tfl_flatbuffer_helpers.cc:365] Ignored drop_control_dependency.\n",
      "2023-04-13 17:50:04.332129: I tensorflow/cc/saved_model/reader.cc:43] Reading SavedModel from: models/model\n",
      "2023-04-13 17:50:04.332937: I tensorflow/cc/saved_model/reader.cc:81] Reading meta graph with tags { serve }\n",
      "2023-04-13 17:50:04.332956: I tensorflow/cc/saved_model/reader.cc:122] Reading SavedModel debug info (if present) from: models/model\n",
      "2023-04-13 17:50:04.335080: I tensorflow/compiler/mlir/mlir_graph_optimization_pass.cc:354] MLIR V1 optimization pass is not enabled\n",
      "2023-04-13 17:50:04.335641: I tensorflow/cc/saved_model/loader.cc:228] Restoring SavedModel bundle.\n",
      "2023-04-13 17:50:04.360942: I tensorflow/cc/saved_model/loader.cc:212] Running initialization op on SavedModel bundle at path: models/model\n",
      "2023-04-13 17:50:04.367806: I tensorflow/cc/saved_model/loader.cc:301] SavedModel load for tags { serve }; Status: success: OK. Took 35679 microseconds.\n",
      "2023-04-13 17:50:04.387060: I tensorflow/compiler/mlir/tensorflow/utils/dump_mlir_util.cc:263] disabling MLIR crash reproducer, set env var `MLIR_CRASH_REPRODUCER_DIRECTORY` to enable.\n"
     ]
    },
    {
     "data": {
      "text/plain": [
       "17596"
      ]
     },
     "execution_count": 15,
     "metadata": {},
     "output_type": "execute_result"
    }
   ],
   "source": [
    "# Convert the model to the TensorFlow Lite format without quantization\n",
    "converter = tf.lite.TFLiteConverter.from_saved_model(MODEL_TF)\n",
    "model_no_quant_tflite = converter.convert()\n",
    "\n",
    "# Save the model to disk\n",
    "open(MODEL_NO_QUANT_TFLITE, \"wb\").write(model_no_quant_tflite)"
   ]
  },
  {
   "cell_type": "code",
   "execution_count": 16,
   "metadata": {},
   "outputs": [
    {
     "name": "stderr",
     "output_type": "stream",
     "text": [
      "2023-04-13 17:50:04.525002: W tensorflow/compiler/mlir/lite/python/tf_tfl_flatbuffer_helpers.cc:362] Ignored output_format.\n",
      "2023-04-13 17:50:04.525023: W tensorflow/compiler/mlir/lite/python/tf_tfl_flatbuffer_helpers.cc:365] Ignored drop_control_dependency.\n",
      "2023-04-13 17:50:04.525148: I tensorflow/cc/saved_model/reader.cc:43] Reading SavedModel from: models/model\n",
      "2023-04-13 17:50:04.525796: I tensorflow/cc/saved_model/reader.cc:81] Reading meta graph with tags { serve }\n",
      "2023-04-13 17:50:04.525809: I tensorflow/cc/saved_model/reader.cc:122] Reading SavedModel debug info (if present) from: models/model\n",
      "2023-04-13 17:50:04.527606: I tensorflow/cc/saved_model/loader.cc:228] Restoring SavedModel bundle.\n",
      "2023-04-13 17:50:04.551836: I tensorflow/cc/saved_model/loader.cc:212] Running initialization op on SavedModel bundle at path: models/model\n",
      "2023-04-13 17:50:04.559650: I tensorflow/cc/saved_model/loader.cc:301] SavedModel load for tags { serve }; Status: success: OK. Took 34502 microseconds.\n",
      "fully_quantize: 0, inference_type: 6, input_inference_type: 0, output_inference_type: 0\n"
     ]
    },
    {
     "data": {
      "text/plain": [
       "6152"
      ]
     },
     "execution_count": 16,
     "metadata": {},
     "output_type": "execute_result"
    }
   ],
   "source": [
    "# Convert the model to the TensorFlow Lite format with quantization\n",
    "def representative_dataset_orig():\n",
    "  for i in range(500):\n",
    "    yield([x_train[i].reshape(1, 1)])\n",
    "def representative_dataset():\n",
    "  for data in tf.data.Dataset.from_tensor_slices((x_train)).batch(1).take(100):\n",
    "    yield [tf.dtypes.cast(data, tf.float32)]\n",
    "# TODO: this is a dummy -> see https://www.tensorflow.org/lite/performance/post_training_quantization\n",
    "def representative_dataset_random():\n",
    "    for _ in range(100):\n",
    "      data = np.random.rand(1, 255, SIMAGE_HEIGHT, SIMAGE_WIDTH)\n",
    "      yield [data.astype(np.float32)]\n",
    "# Set the optimization flag.\n",
    "converter.optimizations = [tf.lite.Optimize.DEFAULT]\n",
    "# Enforce integer only quantization\n",
    "converter.target_spec.supported_ops = [tf.lite.OpsSet.TFLITE_BUILTINS_INT8]\n",
    "# Provide a representative dataset to ensure we quantize correctly.\n",
    "converter.representative_dataset = representative_dataset\n",
    "model_tflite = converter.convert()\n",
    "\n",
    "# Save the model to disk\n",
    "open(MODEL_TFLITE, \"wb\").write(model_tflite)"
   ]
  },
  {
   "cell_type": "code",
   "execution_count": 17,
   "metadata": {},
   "outputs": [],
   "source": [
    "tfliteToC(MODEL_TFLITE, MODEL_TFLITE_MICRO)\n",
    "tfliteToC(MODEL_NO_QUANT_TFLITE, MODEL_NO_QUANT_TFLITE_MICRO)"
   ]
  },
  {
   "cell_type": "markdown",
   "metadata": {},
   "source": [
    "# Evaluation of different Models"
   ]
  },
  {
   "cell_type": "code",
   "execution_count": 18,
   "metadata": {
    "cellView": "code",
    "id": "NKtmxEhko1S1"
   },
   "outputs": [],
   "source": [
    "def predict_tflite(tflite_model, x_test):\n",
    "  # Prepare the test data\n",
    "  x_test_ = x_test.copy()\n",
    "  x_test_ = x_test_.astype(np.float32)\n",
    "\n",
    "  # Initialize the TFLite interpreter\n",
    "  interpreter = tf.lite.Interpreter(model_content=tflite_model,\n",
    "                                    experimental_op_resolver_type=tf.lite.experimental.OpResolverType.BUILTIN_REF)\n",
    "  interpreter.allocate_tensors()\n",
    "\n",
    "  input_details = interpreter.get_input_details()[0]\n",
    "  output_details = interpreter.get_output_details()[0]\n",
    "\n",
    "  # If required, quantize the input layer (from float to integer)\n",
    "  input_scale, input_zero_point = input_details[\"quantization\"]\n",
    "  if (input_scale, input_zero_point) != (0.0, 0):\n",
    "    x_test_ = x_test_ / input_scale + input_zero_point\n",
    "    x_test_ = x_test_.astype(input_details[\"dtype\"])\n",
    "  \n",
    "  # Invoke the interpreter\n",
    "  y_pred = np.empty((len(x_test_),10), dtype=output_details[\"dtype\"])\n",
    "  for i in range(len(x_test_)):\n",
    "    interpreter.set_tensor(input_details[\"index\"], [x_test_[i]])\n",
    "    interpreter.invoke()\n",
    "    #print(interpreter.get_tensor(output_details[\"index\"])[0])\n",
    "    y_pred[i] = interpreter.get_tensor(output_details[\"index\"])[0]\n",
    "  \n",
    "  # If required, dequantized the output layer (from integer to float)\n",
    "  output_scale, output_zero_point = output_details[\"quantization\"]\n",
    "  if (output_scale, output_zero_point) != (0.0, 0):\n",
    "    y_pred = y_pred.astype(np.float32)\n",
    "    y_pred = (y_pred - output_zero_point) * output_scale\n",
    "\n",
    "  return y_pred\n",
    "\n",
    "def evaluate_tflite(tflite_model, x_test, y_true):\n",
    "  global model\n",
    "  y_pred = predict_tflite(tflite_model, x_test)\n",
    "  loss_function = tf.keras.losses.get(model.loss)\n",
    "  loss = np.average(loss_function(y_true, y_pred).numpy())\n",
    "  y_test_class = np.argmax(y_true, axis = 1)\n",
    "  y_pred_class = np.argmax(y_pred, axis = 1)\n",
    "  acc = accuracy_score(y_test_class, y_pred_class, normalize=True)\n",
    "  return (loss, acc)"
   ]
  },
  {
   "cell_type": "code",
   "execution_count": 19,
   "metadata": {},
   "outputs": [],
   "source": [
    "loss_tf, acc_tf = model.evaluate(x_test, y_test, verbose=0)\n",
    "loss_no_quant_tflite, acc_no_quant_tflite = evaluate_tflite(model_no_quant_tflite, x_test, y_test)\n",
    "loss_tflite, acc_tflite = evaluate_tflite(model_tflite, x_test, y_test)"
   ]
  },
  {
   "cell_type": "code",
   "execution_count": 20,
   "metadata": {},
   "outputs": [
    {
     "data": {
      "text/html": [
       "<div>\n",
       "<style scoped>\n",
       "    .dataframe tbody tr th:only-of-type {\n",
       "        vertical-align: middle;\n",
       "    }\n",
       "\n",
       "    .dataframe tbody tr th {\n",
       "        vertical-align: top;\n",
       "    }\n",
       "\n",
       "    .dataframe thead th {\n",
       "        text-align: right;\n",
       "    }\n",
       "</style>\n",
       "<table border=\"1\" class=\"dataframe\">\n",
       "  <thead>\n",
       "    <tr style=\"text-align: right;\">\n",
       "      <th></th>\n",
       "      <th>Acc</th>\n",
       "      <th>Loss/MSE</th>\n",
       "    </tr>\n",
       "    <tr>\n",
       "      <th>Model</th>\n",
       "      <th></th>\n",
       "      <th></th>\n",
       "    </tr>\n",
       "  </thead>\n",
       "  <tbody>\n",
       "    <tr>\n",
       "      <th>TensorFlow</th>\n",
       "      <td>0.9327</td>\n",
       "      <td>0.2480</td>\n",
       "    </tr>\n",
       "    <tr>\n",
       "      <th>TensorFlow Lite</th>\n",
       "      <td>0.9327</td>\n",
       "      <td>0.2480</td>\n",
       "    </tr>\n",
       "    <tr>\n",
       "      <th>TensorFlow Lite Quantized</th>\n",
       "      <td>0.9331</td>\n",
       "      <td>0.2704</td>\n",
       "    </tr>\n",
       "  </tbody>\n",
       "</table>\n",
       "</div>"
      ],
      "text/plain": [
       "                              Acc  Loss/MSE\n",
       "Model                                      \n",
       "TensorFlow                 0.9327    0.2480\n",
       "TensorFlow Lite            0.9327    0.2480\n",
       "TensorFlow Lite Quantized  0.9331    0.2704"
      ]
     },
     "execution_count": 20,
     "metadata": {},
     "output_type": "execute_result"
    }
   ],
   "source": [
    "# Compare loss\n",
    "df = pd.DataFrame.from_records(\n",
    "    [[\"TensorFlow\", acc_tf, loss_tf],\n",
    "     [\"TensorFlow Lite\", acc_no_quant_tflite, loss_no_quant_tflite],\n",
    "     [\"TensorFlow Lite Quantized\", acc_tflite, loss_tflite]],\n",
    "     columns = [\"Model\", \"Acc\", \"Loss/MSE\"], index=\"Model\").round(4)\n",
    "df"
   ]
  },
  {
   "cell_type": "code",
   "execution_count": 21,
   "metadata": {},
   "outputs": [
    {
     "data": {
      "image/png": "[encoded data removed]",
      "text/plain": [
       "<Figure size 432x288 with 2 Axes>"
      ]
     },
     "metadata": {
      "needs_background": "light"
     },
     "output_type": "display_data"
    }
   ],
   "source": [
    "# Confusion matrix\n",
    "y_pred = predict_tflite(model_tflite, x_test)\n",
    "y_test_class = np.argmax(y_test, axis = 1)\n",
    "y_pred_class = np.argmax(y_pred, axis = 1)\n",
    "cmat = (confusion_matrix(y_test_class, y_pred_class, normalize='pred') * 100).round()\n",
    "disp = ConfusionMatrixDisplay(confusion_matrix=cmat)\n",
    "disp.plot()\n",
    "plt.show()"
   ]
  },
  {
   "cell_type": "code",
   "execution_count": null,
   "metadata": {},
   "outputs": [],
   "source": []
  }
 ],
 "metadata": {
  "colab": {
   "collapsed_sections": [],
   "name": "train_hello_world_model.ipynb",
   "provenance": [],
   "toc_visible": true
  },
  "kernelspec": {
   "display_name": "Python 3 (ipykernel)",
   "language": "python",
   "name": "python3"
  },
  "language_info": {
   "codemirror_mode": {
    "name": "ipython",
    "version": 3
   },
   "file_extension": ".py",
   "mimetype": "text/x-python",
   "name": "python",
   "nbconvert_exporter": "python",
   "pygments_lexer": "ipython3",
   "version": "3.8.3"
  },
  "vscode": {
   "interpreter": {
    "hash": "22cb1d09959a40fdc50ccd77b5464bb60602aea13b58d7f13d7eaffcd0bc7c7d"
   }
  }
 },
 "nbformat": 4,
 "nbformat_minor": 1
}
